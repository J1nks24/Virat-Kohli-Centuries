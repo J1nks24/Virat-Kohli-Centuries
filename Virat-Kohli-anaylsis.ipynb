{
 "cells": [
  {
   "cell_type": "code",
   "execution_count": 1,
   "id": "18a69f98",
   "metadata": {},
   "outputs": [],
   "source": [
    "import pandas as pd \n",
    "import numpy as np\n",
    "import seaborn as sns \n",
    "import matplotlib.pyplot as plt\n",
    "import plotly.express as px"
   ]
  },
  {
   "cell_type": "code",
   "execution_count": 2,
   "id": "528289b1",
   "metadata": {},
   "outputs": [
    {
     "name": "stdout",
     "output_type": "stream",
     "text": [
      "(71, 15)\n"
     ]
    },
    {
     "data": {
      "text/html": [
       "<div>\n",
       "<style scoped>\n",
       "    .dataframe tbody tr th:only-of-type {\n",
       "        vertical-align: middle;\n",
       "    }\n",
       "\n",
       "    .dataframe tbody tr th {\n",
       "        vertical-align: top;\n",
       "    }\n",
       "\n",
       "    .dataframe thead th {\n",
       "        text-align: right;\n",
       "    }\n",
       "</style>\n",
       "<table border=\"1\" class=\"dataframe\">\n",
       "  <thead>\n",
       "    <tr style=\"text-align: right;\">\n",
       "      <th></th>\n",
       "      <th>Score</th>\n",
       "      <th>Out/Not Out</th>\n",
       "      <th>Against</th>\n",
       "      <th>Batting Order</th>\n",
       "      <th>Inn.</th>\n",
       "      <th>Strike Rate</th>\n",
       "      <th>Venue</th>\n",
       "      <th>Column1</th>\n",
       "      <th>H/A</th>\n",
       "      <th>Date</th>\n",
       "      <th>Result</th>\n",
       "      <th>Format</th>\n",
       "      <th>Man of the Match</th>\n",
       "      <th>Captain</th>\n",
       "      <th>Unnamed: 14</th>\n",
       "    </tr>\n",
       "  </thead>\n",
       "  <tbody>\n",
       "    <tr>\n",
       "      <th>0</th>\n",
       "      <td>116</td>\n",
       "      <td>Out</td>\n",
       "      <td>Australia</td>\n",
       "      <td>6</td>\n",
       "      <td>2</td>\n",
       "      <td>NaN</td>\n",
       "      <td>Adelaide Oval</td>\n",
       "      <td>Adelaide</td>\n",
       "      <td>Away</td>\n",
       "      <td>24-01-2012</td>\n",
       "      <td>Lost</td>\n",
       "      <td>Test</td>\n",
       "      <td>No</td>\n",
       "      <td>No</td>\n",
       "      <td>NaN</td>\n",
       "    </tr>\n",
       "    <tr>\n",
       "      <th>1</th>\n",
       "      <td>103</td>\n",
       "      <td>Out</td>\n",
       "      <td>New Zealand</td>\n",
       "      <td>5</td>\n",
       "      <td>2</td>\n",
       "      <td>NaN</td>\n",
       "      <td>M. Chinnaswamy Stadium</td>\n",
       "      <td>Bangalore</td>\n",
       "      <td>Home</td>\n",
       "      <td>31-08-2012</td>\n",
       "      <td>Won</td>\n",
       "      <td>Test</td>\n",
       "      <td>Yes</td>\n",
       "      <td>No</td>\n",
       "      <td>NaN</td>\n",
       "    </tr>\n",
       "    <tr>\n",
       "      <th>2</th>\n",
       "      <td>103</td>\n",
       "      <td>Out</td>\n",
       "      <td>England</td>\n",
       "      <td>5</td>\n",
       "      <td>2</td>\n",
       "      <td>NaN</td>\n",
       "      <td>Vidarbha Cricket Association Stadium</td>\n",
       "      <td>Nagpur</td>\n",
       "      <td>Home</td>\n",
       "      <td>13-12-2012</td>\n",
       "      <td>Drawn</td>\n",
       "      <td>Test</td>\n",
       "      <td>No</td>\n",
       "      <td>No</td>\n",
       "      <td>NaN</td>\n",
       "    </tr>\n",
       "    <tr>\n",
       "      <th>3</th>\n",
       "      <td>107</td>\n",
       "      <td>Out</td>\n",
       "      <td>Australia</td>\n",
       "      <td>5</td>\n",
       "      <td>2</td>\n",
       "      <td>NaN</td>\n",
       "      <td>M. A. Chidambaram Stadium</td>\n",
       "      <td>Chennai</td>\n",
       "      <td>Home</td>\n",
       "      <td>22-02-2013</td>\n",
       "      <td>Won</td>\n",
       "      <td>Test</td>\n",
       "      <td>No</td>\n",
       "      <td>No</td>\n",
       "      <td>NaN</td>\n",
       "    </tr>\n",
       "    <tr>\n",
       "      <th>4</th>\n",
       "      <td>119</td>\n",
       "      <td>Out</td>\n",
       "      <td>South Africa</td>\n",
       "      <td>4</td>\n",
       "      <td>1</td>\n",
       "      <td>NaN</td>\n",
       "      <td>Wanderers Stadium</td>\n",
       "      <td>Johannesburg</td>\n",
       "      <td>Away</td>\n",
       "      <td>18-12-2013</td>\n",
       "      <td>Drawn</td>\n",
       "      <td>Test</td>\n",
       "      <td>No</td>\n",
       "      <td>No</td>\n",
       "      <td>NaN</td>\n",
       "    </tr>\n",
       "  </tbody>\n",
       "</table>\n",
       "</div>"
      ],
      "text/plain": [
       "   Score Out/Not Out       Against  Batting Order  Inn.  Strike Rate  \\\n",
       "0    116         Out     Australia              6     2          NaN   \n",
       "1    103         Out   New Zealand              5     2          NaN   \n",
       "2    103         Out       England              5     2          NaN   \n",
       "3    107         Out     Australia              5     2          NaN   \n",
       "4    119         Out  South Africa              4     1          NaN   \n",
       "\n",
       "                                  Venue        Column1   H/A        Date  \\\n",
       "0                         Adelaide Oval       Adelaide  Away  24-01-2012   \n",
       "1                M. Chinnaswamy Stadium      Bangalore  Home  31-08-2012   \n",
       "2  Vidarbha Cricket Association Stadium         Nagpur  Home  13-12-2012   \n",
       "3             M. A. Chidambaram Stadium        Chennai  Home  22-02-2013   \n",
       "4                     Wanderers Stadium   Johannesburg  Away  18-12-2013   \n",
       "\n",
       "  Result Format Man of the Match Captain  Unnamed: 14  \n",
       "0   Lost   Test               No      No          NaN  \n",
       "1    Won   Test              Yes      No          NaN  \n",
       "2  Drawn   Test               No      No          NaN  \n",
       "3    Won   Test               No      No          NaN  \n",
       "4  Drawn   Test               No      No          NaN  "
      ]
     },
     "execution_count": 2,
     "metadata": {},
     "output_type": "execute_result"
    }
   ],
   "source": [
    "df=pd.read_csv(\"71 Centuries of Virat Kohli.csv\")\n",
    "print(df.shape)\n",
    "df.head(5)"
   ]
  },
  {
   "cell_type": "code",
   "execution_count": 3,
   "id": "b34ece51",
   "metadata": {},
   "outputs": [
    {
     "data": {
      "text/plain": [
       "Score                0\n",
       "Out/Not Out          0\n",
       "Against              0\n",
       "Batting Order        0\n",
       "Inn.                 0\n",
       "Strike Rate         27\n",
       "Venue                0\n",
       "Column1              0\n",
       "H/A                  0\n",
       "Date                 0\n",
       "Result               0\n",
       "Format               0\n",
       "Man of the Match     0\n",
       "Captain              0\n",
       "Unnamed: 14         71\n",
       "dtype: int64"
      ]
     },
     "execution_count": 3,
     "metadata": {},
     "output_type": "execute_result"
    }
   ],
   "source": [
    "df.isna().sum()"
   ]
  },
  {
   "cell_type": "code",
   "execution_count": 4,
   "id": "e3b4a791",
   "metadata": {},
   "outputs": [],
   "source": [
    "df.drop(\"Unnamed: 14\",axis=1,inplace=True)"
   ]
  },
  {
   "cell_type": "code",
   "execution_count": 5,
   "id": "686fd794",
   "metadata": {},
   "outputs": [
    {
     "name": "stdout",
     "output_type": "stream",
     "text": [
      "(71, 14)\n"
     ]
    },
    {
     "data": {
      "text/html": [
       "<div>\n",
       "<style scoped>\n",
       "    .dataframe tbody tr th:only-of-type {\n",
       "        vertical-align: middle;\n",
       "    }\n",
       "\n",
       "    .dataframe tbody tr th {\n",
       "        vertical-align: top;\n",
       "    }\n",
       "\n",
       "    .dataframe thead th {\n",
       "        text-align: right;\n",
       "    }\n",
       "</style>\n",
       "<table border=\"1\" class=\"dataframe\">\n",
       "  <thead>\n",
       "    <tr style=\"text-align: right;\">\n",
       "      <th></th>\n",
       "      <th>Score</th>\n",
       "      <th>Out/Not Out</th>\n",
       "      <th>Against</th>\n",
       "      <th>Batting Order</th>\n",
       "      <th>Inn.</th>\n",
       "      <th>Strike Rate</th>\n",
       "      <th>Venue</th>\n",
       "      <th>Column1</th>\n",
       "      <th>H/A</th>\n",
       "      <th>Date</th>\n",
       "      <th>Result</th>\n",
       "      <th>Format</th>\n",
       "      <th>Man of the Match</th>\n",
       "      <th>Captain</th>\n",
       "    </tr>\n",
       "  </thead>\n",
       "  <tbody>\n",
       "    <tr>\n",
       "      <th>29</th>\n",
       "      <td>118</td>\n",
       "      <td>Out</td>\n",
       "      <td>Australia</td>\n",
       "      <td>3</td>\n",
       "      <td>2</td>\n",
       "      <td>97.52</td>\n",
       "      <td>APCA-VDCA Stadium</td>\n",
       "      <td>Visakhapatnam</td>\n",
       "      <td>Home</td>\n",
       "      <td>20-10-2010</td>\n",
       "      <td>Won</td>\n",
       "      <td>ODI</td>\n",
       "      <td>Yes</td>\n",
       "      <td>No</td>\n",
       "    </tr>\n",
       "    <tr>\n",
       "      <th>48</th>\n",
       "      <td>107</td>\n",
       "      <td>Out</td>\n",
       "      <td>Pakistan</td>\n",
       "      <td>3</td>\n",
       "      <td>1</td>\n",
       "      <td>84.90</td>\n",
       "      <td>Adelaide Oval</td>\n",
       "      <td>Adelaide</td>\n",
       "      <td>Away</td>\n",
       "      <td>15-02-2015</td>\n",
       "      <td>Won</td>\n",
       "      <td>ODI</td>\n",
       "      <td>Yes</td>\n",
       "      <td>No</td>\n",
       "    </tr>\n",
       "    <tr>\n",
       "      <th>51</th>\n",
       "      <td>106</td>\n",
       "      <td>Out</td>\n",
       "      <td>Australia</td>\n",
       "      <td>3</td>\n",
       "      <td>2</td>\n",
       "      <td>115.21</td>\n",
       "      <td>Manuka Oval</td>\n",
       "      <td>Canberra</td>\n",
       "      <td>Away</td>\n",
       "      <td>20-01-2016</td>\n",
       "      <td>Lost</td>\n",
       "      <td>ODI</td>\n",
       "      <td>No</td>\n",
       "      <td>No</td>\n",
       "    </tr>\n",
       "    <tr>\n",
       "      <th>53</th>\n",
       "      <td>122</td>\n",
       "      <td>Out</td>\n",
       "      <td>England</td>\n",
       "      <td>3</td>\n",
       "      <td>2</td>\n",
       "      <td>116.19</td>\n",
       "      <td>Maharashtra Cricket Association Stadium</td>\n",
       "      <td>Pune</td>\n",
       "      <td>Home</td>\n",
       "      <td>15-01-2017</td>\n",
       "      <td>Won</td>\n",
       "      <td>ODI</td>\n",
       "      <td>No</td>\n",
       "      <td>Yes</td>\n",
       "    </tr>\n",
       "    <tr>\n",
       "      <th>15</th>\n",
       "      <td>204</td>\n",
       "      <td>Out</td>\n",
       "      <td>Bangladesh</td>\n",
       "      <td>4</td>\n",
       "      <td>1</td>\n",
       "      <td>NaN</td>\n",
       "      <td>Rajiv Gandhi International Cricket Stadium</td>\n",
       "      <td>Hyderabad</td>\n",
       "      <td>Home</td>\n",
       "      <td>09-02-2017</td>\n",
       "      <td>Won</td>\n",
       "      <td>Test</td>\n",
       "      <td>Yes</td>\n",
       "      <td>Yes</td>\n",
       "    </tr>\n",
       "  </tbody>\n",
       "</table>\n",
       "</div>"
      ],
      "text/plain": [
       "    Score Out/Not Out     Against  Batting Order  Inn.  Strike Rate  \\\n",
       "29    118         Out   Australia              3     2        97.52   \n",
       "48    107         Out    Pakistan              3     1        84.90   \n",
       "51    106         Out   Australia              3     2       115.21   \n",
       "53    122         Out     England              3     2       116.19   \n",
       "15    204         Out  Bangladesh              4     1          NaN   \n",
       "\n",
       "                                         Venue         Column1   H/A  \\\n",
       "29                           APCA-VDCA Stadium   Visakhapatnam  Home   \n",
       "48                               Adelaide Oval        Adelaide  Away   \n",
       "51                                 Manuka Oval        Canberra  Away   \n",
       "53     Maharashtra Cricket Association Stadium            Pune  Home   \n",
       "15  Rajiv Gandhi International Cricket Stadium       Hyderabad  Home   \n",
       "\n",
       "          Date Result Format Man of the Match Captain  \n",
       "29  20-10-2010    Won    ODI              Yes      No  \n",
       "48  15-02-2015    Won    ODI              Yes      No  \n",
       "51  20-01-2016   Lost    ODI               No      No  \n",
       "53  15-01-2017    Won    ODI               No     Yes  \n",
       "15  09-02-2017    Won   Test              Yes     Yes  "
      ]
     },
     "execution_count": 5,
     "metadata": {},
     "output_type": "execute_result"
    }
   ],
   "source": [
    "print(df.shape)\n",
    "df.sample(5)"
   ]
  },
  {
   "cell_type": "code",
   "execution_count": 6,
   "id": "b88d7976",
   "metadata": {},
   "outputs": [],
   "source": [
    "avgstr=df[\"Strike Rate\"].mean()\n",
    "df[\"Strike Rate\"].fillna(avgstr,inplace=True)"
   ]
  },
  {
   "cell_type": "code",
   "execution_count": 7,
   "id": "6cf56d77",
   "metadata": {},
   "outputs": [
    {
     "data": {
      "text/plain": [
       "Score               0\n",
       "Out/Not Out         0\n",
       "Against             0\n",
       "Batting Order       0\n",
       "Inn.                0\n",
       "Strike Rate         0\n",
       "Venue               0\n",
       "Column1             0\n",
       "H/A                 0\n",
       "Date                0\n",
       "Result              0\n",
       "Format              0\n",
       "Man of the Match    0\n",
       "Captain             0\n",
       "dtype: int64"
      ]
     },
     "execution_count": 7,
     "metadata": {},
     "output_type": "execute_result"
    }
   ],
   "source": [
    "df.isnull().sum()"
   ]
  },
  {
   "cell_type": "code",
   "execution_count": 8,
   "id": "9b2711a6",
   "metadata": {},
   "outputs": [],
   "source": [
    "df.rename(columns={\"Column1\": \"City\"},inplace=True)"
   ]
  },
  {
   "cell_type": "code",
   "execution_count": 9,
   "id": "3fb587c2",
   "metadata": {},
   "outputs": [
    {
     "data": {
      "text/html": [
       "<div>\n",
       "<style scoped>\n",
       "    .dataframe tbody tr th:only-of-type {\n",
       "        vertical-align: middle;\n",
       "    }\n",
       "\n",
       "    .dataframe tbody tr th {\n",
       "        vertical-align: top;\n",
       "    }\n",
       "\n",
       "    .dataframe thead th {\n",
       "        text-align: right;\n",
       "    }\n",
       "</style>\n",
       "<table border=\"1\" class=\"dataframe\">\n",
       "  <thead>\n",
       "    <tr style=\"text-align: right;\">\n",
       "      <th></th>\n",
       "      <th>Score</th>\n",
       "      <th>Out/Not Out</th>\n",
       "      <th>Against</th>\n",
       "      <th>Batting Order</th>\n",
       "      <th>Inn.</th>\n",
       "      <th>Strike Rate</th>\n",
       "      <th>Venue</th>\n",
       "      <th>City</th>\n",
       "      <th>H/A</th>\n",
       "      <th>Date</th>\n",
       "      <th>Result</th>\n",
       "      <th>Format</th>\n",
       "      <th>Man of the Match</th>\n",
       "      <th>Captain</th>\n",
       "    </tr>\n",
       "  </thead>\n",
       "  <tbody>\n",
       "    <tr>\n",
       "      <th>0</th>\n",
       "      <td>116</td>\n",
       "      <td>Out</td>\n",
       "      <td>Australia</td>\n",
       "      <td>6</td>\n",
       "      <td>2</td>\n",
       "      <td>114.019545</td>\n",
       "      <td>Adelaide Oval</td>\n",
       "      <td>Adelaide</td>\n",
       "      <td>Away</td>\n",
       "      <td>24-01-2012</td>\n",
       "      <td>Lost</td>\n",
       "      <td>Test</td>\n",
       "      <td>No</td>\n",
       "      <td>No</td>\n",
       "    </tr>\n",
       "    <tr>\n",
       "      <th>1</th>\n",
       "      <td>103</td>\n",
       "      <td>Out</td>\n",
       "      <td>New Zealand</td>\n",
       "      <td>5</td>\n",
       "      <td>2</td>\n",
       "      <td>114.019545</td>\n",
       "      <td>M. Chinnaswamy Stadium</td>\n",
       "      <td>Bangalore</td>\n",
       "      <td>Home</td>\n",
       "      <td>31-08-2012</td>\n",
       "      <td>Won</td>\n",
       "      <td>Test</td>\n",
       "      <td>Yes</td>\n",
       "      <td>No</td>\n",
       "    </tr>\n",
       "    <tr>\n",
       "      <th>2</th>\n",
       "      <td>103</td>\n",
       "      <td>Out</td>\n",
       "      <td>England</td>\n",
       "      <td>5</td>\n",
       "      <td>2</td>\n",
       "      <td>114.019545</td>\n",
       "      <td>Vidarbha Cricket Association Stadium</td>\n",
       "      <td>Nagpur</td>\n",
       "      <td>Home</td>\n",
       "      <td>13-12-2012</td>\n",
       "      <td>Drawn</td>\n",
       "      <td>Test</td>\n",
       "      <td>No</td>\n",
       "      <td>No</td>\n",
       "    </tr>\n",
       "    <tr>\n",
       "      <th>3</th>\n",
       "      <td>107</td>\n",
       "      <td>Out</td>\n",
       "      <td>Australia</td>\n",
       "      <td>5</td>\n",
       "      <td>2</td>\n",
       "      <td>114.019545</td>\n",
       "      <td>M. A. Chidambaram Stadium</td>\n",
       "      <td>Chennai</td>\n",
       "      <td>Home</td>\n",
       "      <td>22-02-2013</td>\n",
       "      <td>Won</td>\n",
       "      <td>Test</td>\n",
       "      <td>No</td>\n",
       "      <td>No</td>\n",
       "    </tr>\n",
       "    <tr>\n",
       "      <th>4</th>\n",
       "      <td>119</td>\n",
       "      <td>Out</td>\n",
       "      <td>South Africa</td>\n",
       "      <td>4</td>\n",
       "      <td>1</td>\n",
       "      <td>114.019545</td>\n",
       "      <td>Wanderers Stadium</td>\n",
       "      <td>Johannesburg</td>\n",
       "      <td>Away</td>\n",
       "      <td>18-12-2013</td>\n",
       "      <td>Drawn</td>\n",
       "      <td>Test</td>\n",
       "      <td>No</td>\n",
       "      <td>No</td>\n",
       "    </tr>\n",
       "  </tbody>\n",
       "</table>\n",
       "</div>"
      ],
      "text/plain": [
       "   Score Out/Not Out       Against  Batting Order  Inn.  Strike Rate  \\\n",
       "0    116         Out     Australia              6     2   114.019545   \n",
       "1    103         Out   New Zealand              5     2   114.019545   \n",
       "2    103         Out       England              5     2   114.019545   \n",
       "3    107         Out     Australia              5     2   114.019545   \n",
       "4    119         Out  South Africa              4     1   114.019545   \n",
       "\n",
       "                                  Venue           City   H/A        Date  \\\n",
       "0                         Adelaide Oval       Adelaide  Away  24-01-2012   \n",
       "1                M. Chinnaswamy Stadium      Bangalore  Home  31-08-2012   \n",
       "2  Vidarbha Cricket Association Stadium         Nagpur  Home  13-12-2012   \n",
       "3             M. A. Chidambaram Stadium        Chennai  Home  22-02-2013   \n",
       "4                     Wanderers Stadium   Johannesburg  Away  18-12-2013   \n",
       "\n",
       "  Result Format Man of the Match Captain  \n",
       "0   Lost   Test               No      No  \n",
       "1    Won   Test              Yes      No  \n",
       "2  Drawn   Test               No      No  \n",
       "3    Won   Test               No      No  \n",
       "4  Drawn   Test               No      No  "
      ]
     },
     "execution_count": 9,
     "metadata": {},
     "output_type": "execute_result"
    }
   ],
   "source": [
    "df.head()"
   ]
  },
  {
   "cell_type": "code",
   "execution_count": 10,
   "id": "78ece4dd",
   "metadata": {},
   "outputs": [
    {
     "data": {
      "text/plain": [
       "Score                 int64\n",
       "Out/Not Out          object\n",
       "Against              object\n",
       "Batting Order         int64\n",
       "Inn.                  int64\n",
       "Strike Rate         float64\n",
       "Venue                object\n",
       "City                 object\n",
       "H/A                  object\n",
       "Date                 object\n",
       "Result               object\n",
       "Format               object\n",
       "Man of the Match     object\n",
       "Captain              object\n",
       "dtype: object"
      ]
     },
     "execution_count": 10,
     "metadata": {},
     "output_type": "execute_result"
    }
   ],
   "source": [
    "df.dtypes"
   ]
  },
  {
   "cell_type": "code",
   "execution_count": 11,
   "id": "ddfbeb89",
   "metadata": {},
   "outputs": [
    {
     "data": {
      "text/html": [
       "<div>\n",
       "<style scoped>\n",
       "    .dataframe tbody tr th:only-of-type {\n",
       "        vertical-align: middle;\n",
       "    }\n",
       "\n",
       "    .dataframe tbody tr th {\n",
       "        vertical-align: top;\n",
       "    }\n",
       "\n",
       "    .dataframe thead th {\n",
       "        text-align: right;\n",
       "    }\n",
       "</style>\n",
       "<table border=\"1\" class=\"dataframe\">\n",
       "  <thead>\n",
       "    <tr style=\"text-align: right;\">\n",
       "      <th></th>\n",
       "      <th>Score</th>\n",
       "      <th>Batting Order</th>\n",
       "      <th>Inn.</th>\n",
       "      <th>Strike Rate</th>\n",
       "    </tr>\n",
       "  </thead>\n",
       "  <tbody>\n",
       "    <tr>\n",
       "      <th>count</th>\n",
       "      <td>71.000000</td>\n",
       "      <td>71.000000</td>\n",
       "      <td>71.000000</td>\n",
       "      <td>71.000000</td>\n",
       "    </tr>\n",
       "    <tr>\n",
       "      <th>mean</th>\n",
       "      <td>132.140845</td>\n",
       "      <td>3.521127</td>\n",
       "      <td>1.732394</td>\n",
       "      <td>114.019545</td>\n",
       "    </tr>\n",
       "    <tr>\n",
       "      <th>std</th>\n",
       "      <td>35.911119</td>\n",
       "      <td>0.714326</td>\n",
       "      <td>0.675230</td>\n",
       "      <td>19.795967</td>\n",
       "    </tr>\n",
       "    <tr>\n",
       "      <th>min</th>\n",
       "      <td>100.000000</td>\n",
       "      <td>1.000000</td>\n",
       "      <td>1.000000</td>\n",
       "      <td>84.900000</td>\n",
       "    </tr>\n",
       "    <tr>\n",
       "      <th>25%</th>\n",
       "      <td>107.000000</td>\n",
       "      <td>3.000000</td>\n",
       "      <td>1.000000</td>\n",
       "      <td>103.720000</td>\n",
       "    </tr>\n",
       "    <tr>\n",
       "      <th>50%</th>\n",
       "      <td>119.000000</td>\n",
       "      <td>3.000000</td>\n",
       "      <td>2.000000</td>\n",
       "      <td>114.019545</td>\n",
       "    </tr>\n",
       "    <tr>\n",
       "      <th>75%</th>\n",
       "      <td>139.500000</td>\n",
       "      <td>4.000000</td>\n",
       "      <td>2.000000</td>\n",
       "      <td>114.149773</td>\n",
       "    </tr>\n",
       "    <tr>\n",
       "      <th>max</th>\n",
       "      <td>254.000000</td>\n",
       "      <td>6.000000</td>\n",
       "      <td>4.000000</td>\n",
       "      <td>200.000000</td>\n",
       "    </tr>\n",
       "  </tbody>\n",
       "</table>\n",
       "</div>"
      ],
      "text/plain": [
       "            Score  Batting Order       Inn.  Strike Rate\n",
       "count   71.000000      71.000000  71.000000    71.000000\n",
       "mean   132.140845       3.521127   1.732394   114.019545\n",
       "std     35.911119       0.714326   0.675230    19.795967\n",
       "min    100.000000       1.000000   1.000000    84.900000\n",
       "25%    107.000000       3.000000   1.000000   103.720000\n",
       "50%    119.000000       3.000000   2.000000   114.019545\n",
       "75%    139.500000       4.000000   2.000000   114.149773\n",
       "max    254.000000       6.000000   4.000000   200.000000"
      ]
     },
     "execution_count": 11,
     "metadata": {},
     "output_type": "execute_result"
    }
   ],
   "source": [
    "df.describe()"
   ]
  },
  {
   "cell_type": "code",
   "execution_count": 12,
   "id": "5743ed63",
   "metadata": {},
   "outputs": [
    {
     "data": {
      "text/plain": [
       "Against\n",
       "Australia       15\n",
       "Sri Lanka       13\n",
       "West Indies     11\n",
       "New Zealand      8\n",
       "England          8\n",
       "South Africa     7\n",
       "Bangladesh       5\n",
       "Pakistan         2\n",
       "Zimbabwe         1\n",
       "Afganistan       1\n",
       "Name: count, dtype: int64"
      ]
     },
     "execution_count": 12,
     "metadata": {},
     "output_type": "execute_result"
    }
   ],
   "source": [
    "df[\"Against\"].value_counts()"
   ]
  },
  {
   "cell_type": "code",
   "execution_count": 13,
   "id": "29043f86",
   "metadata": {},
   "outputs": [
    {
     "name": "stdout",
     "output_type": "stream",
     "text": [
      "The total runs scored by Virat Kohli is 9382\n",
      "The average runs scored by Virat Kohli per match is  132.14\n"
     ]
    }
   ],
   "source": [
    "print(\"The total runs scored by Virat Kohli is\",df[\"Score\"].sum())\n",
    "print(\"The average runs scored by Virat Kohli per match is \",round(df[\"Score\"].sum()/len(df[\"Score\"]),2))"
   ]
  },
  {
   "cell_type": "code",
   "execution_count": 14,
   "id": "790d73e0",
   "metadata": {},
   "outputs": [
    {
     "data": {
      "text/plain": [
       "Out/Not Out\n",
       "Out        51\n",
       "Not Out    20\n",
       "Name: count, dtype: int64"
      ]
     },
     "execution_count": 14,
     "metadata": {},
     "output_type": "execute_result"
    }
   ],
   "source": [
    "df[\"Out/Not Out\"].value_counts()"
   ]
  },
  {
   "cell_type": "code",
   "execution_count": 28,
   "id": "af890850",
   "metadata": {},
   "outputs": [
    {
     "ename": "SyntaxError",
     "evalue": "positional argument follows keyword argument (1108969230.py, line 1)",
     "output_type": "error",
     "traceback": [
      "\u001b[1;36m  Cell \u001b[1;32mIn[28], line 1\u001b[1;36m\u001b[0m\n\u001b[1;33m    plt.plot(kind=\"bar\",df[\"Out/Not Out\"],df.groupby(by=[\"Out/Not Out\"]))\u001b[0m\n\u001b[1;37m                                                                        ^\u001b[0m\n\u001b[1;31mSyntaxError\u001b[0m\u001b[1;31m:\u001b[0m positional argument follows keyword argument\n"
     ]
    }
   ],
   "source": [
    "plt.plot(kind=\"bar\",df[\"Out/Not Out\"],df.groupby(by=[\"Out/Not Out\"]))"
   ]
  },
  {
   "cell_type": "code",
   "execution_count": null,
   "id": "2f7aac50",
   "metadata": {},
   "outputs": [],
   "source": [
    "df.corr(numeric_only=True)"
   ]
  },
  {
   "cell_type": "code",
   "execution_count": null,
   "id": "7d28fa26",
   "metadata": {},
   "outputs": [],
   "source": [
    "sns.barplot(data=df,x=\"Score\",y=\"Strike Rate\")"
   ]
  },
  {
   "cell_type": "code",
   "execution_count": null,
   "id": "3aeea2f3",
   "metadata": {},
   "outputs": [],
   "source": [
    "df[df['Format']!='Test'][['Score','Strike Rate']].describe()"
   ]
  },
  {
   "cell_type": "code",
   "execution_count": null,
   "id": "8572f348",
   "metadata": {},
   "outputs": [],
   "source": [
    "df[df['Format']=='Test']['Score'].describe()"
   ]
  },
  {
   "cell_type": "code",
   "execution_count": null,
   "id": "9a948c56",
   "metadata": {},
   "outputs": [],
   "source": [
    "px.pie(values = df.Format.value_counts().values,names=df.Format.value_counts().index,title=\"Centuries of Virat Kohli\")"
   ]
  },
  {
   "cell_type": "code",
   "execution_count": null,
   "id": "0707e859",
   "metadata": {},
   "outputs": [],
   "source": [
    "df['Format_century_no'] = df.groupby(['Format'])['Date'].rank(method='max').astype(int)"
   ]
  },
  {
   "cell_type": "code",
   "execution_count": null,
   "id": "71ceba4b",
   "metadata": {},
   "outputs": [],
   "source": [
    "df[df.Format_century_no ==1].iloc[:,0:-1]"
   ]
  },
  {
   "cell_type": "code",
   "execution_count": null,
   "id": "f98e58fa",
   "metadata": {},
   "outputs": [],
   "source": [
    "df[(df.Format_century_no ==43)|(df.Format_century_no ==27)|\n",
    "   (df.Format_century_no ==1)].iloc[:,:-1].sort_values(by='Date').tail(3)"
   ]
  },
  {
   "cell_type": "code",
   "execution_count": null,
   "id": "50fbedce",
   "metadata": {},
   "outputs": [],
   "source": [
    "Tonvs = df.groupby(['Against','Format','Result'])['Score'].count().reset_index().rename(columns ={'Score':'Number_of_Centuries'})\n",
    "px.bar(data_frame=Tonvs,x='Against',y='Number_of_Centuries',color ='Format',text_auto=True,pattern_shape='Result')"
   ]
  },
  {
   "cell_type": "code",
   "execution_count": null,
   "id": "4002fcd4",
   "metadata": {},
   "outputs": [],
   "source": [
    "df['Date'] =  pd.to_datetime(df['Date'], format='%d-%m-%Y')\n",
    "df = df.sort_values(by=['Date'])\n",
    "l = []\n",
    "for i in range(1,72):\n",
    "    l.append(i)\n",
    "df['Int_Century_count'] = l\n",
    "fig = px.line(data_frame=df,x='Date',y='Int_Century_count',markers=True,title=\"Virat's International Hundreds\")\n",
    "fig.update_layout(title_x=0.5)\n",
    "fig.show()"
   ]
  },
  {
   "cell_type": "code",
   "execution_count": null,
   "id": "0fd464c8",
   "metadata": {},
   "outputs": [],
   "source": [
    "H_a = df.groupby(['Against','H/A'])['Score'].count().reset_index().rename(columns={'Score':'Centuries'})\n",
    "fig = px.bar(data_frame=H_a,x='Against',y='Centuries',color='H/A',text_auto=True)\n",
    "fig.update_layout(title = \"Virat's Centuries at Home and Away from Home\", title_x=0.5)\n",
    "fig.show()"
   ]
  },
  {
   "cell_type": "code",
   "execution_count": null,
   "id": "b9ebf5d6",
   "metadata": {},
   "outputs": [],
   "source": []
  }
 ],
 "metadata": {
  "kernelspec": {
   "display_name": "Python 3 (ipykernel)",
   "language": "python",
   "name": "python3"
  },
  "language_info": {
   "codemirror_mode": {
    "name": "ipython",
    "version": 3
   },
   "file_extension": ".py",
   "mimetype": "text/x-python",
   "name": "python",
   "nbconvert_exporter": "python",
   "pygments_lexer": "ipython3",
   "version": "3.11.5"
  },
  "varInspector": {
   "cols": {
    "lenName": 16,
    "lenType": 16,
    "lenVar": 40
   },
   "kernels_config": {
    "python": {
     "delete_cmd_postfix": "",
     "delete_cmd_prefix": "del ",
     "library": "var_list.py",
     "varRefreshCmd": "print(var_dic_list())"
    },
    "r": {
     "delete_cmd_postfix": ") ",
     "delete_cmd_prefix": "rm(",
     "library": "var_list.r",
     "varRefreshCmd": "cat(var_dic_list()) "
    }
   },
   "types_to_exclude": [
    "module",
    "function",
    "builtin_function_or_method",
    "instance",
    "_Feature"
   ],
   "window_display": false
  }
 },
 "nbformat": 4,
 "nbformat_minor": 5
}
